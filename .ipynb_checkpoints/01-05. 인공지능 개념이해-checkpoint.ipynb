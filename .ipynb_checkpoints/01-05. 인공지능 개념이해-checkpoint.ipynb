{
 "cells": [
  {
   "cell_type": "markdown",
   "metadata": {},
   "source": [
    "# 인공지능 개념이해"
   ]
  },
  {
   "cell_type": "markdown",
   "metadata": {},
   "source": [
    "## 전체구조 및 학습과정"
   ]
  },
  {
   "cell_type": "markdown",
   "metadata": {},
   "source": [
    "* Data :  전처리, 데이터 변형 및 추가. 프로젝트 및 개발에서 가장 중요한 부분\n",
    "* Model : LeNET, AlexNET, VGG 등의 다양한 모델. 프로젝트에 따른 모델 선택이 중요하다.(딥러닝의 두뇌)\n",
    "* Prediction / Logit : 예측값과 실제 정답\n",
    "* Loss / Cost :  정답과 비교 후 얼마나 맞았는지 / 틀렸는지를 계산.\n",
    "* Optimization :  Loss를 최소화하기 위해 기울기를 최적화 된 변수로 반환.\n",
    "* Result : 최종 결과 (정확도 : 얼마나 정답을 맞췄는가?)\n",
    "\n",
    "딥러닝은 코드 자체가 아주 어려운 부분은 많지 않다."
   ]
  },
  {
   "cell_type": "markdown",
   "metadata": {},
   "source": [
    "## 딥러닝 용어 (1)"
   ]
  },
  {
   "cell_type": "markdown",
   "metadata": {},
   "source": [
    "* 모델 : 학습시키고자 하는 대상 (CNN, LeNET, VGG 등...)\n",
    "* 레이어 (Layer) : 이전에는 퍼셉트론이 매우 적은 층만 쌓여있었음.\n",
    "                   하지만 딥러닝의 경우에는 퍼셉트론을 깊게 쌓는다!\n",
    "                   레이어가 많아질수록 무조건적인 성능 향상이 일어나지는 않는다. (ex. 속도 저하, Overfitting...)\n",
    "* 컨볼루션 (Convolution) : 합성곱\n",
    "                           이미지 * 필터 (컨볼루션 커널, Convolution Kernel) = 특징 맵(Feature map)\n",
    "                           필터에 따라서 어떠한 특징을 잡아내는지가 달라진다.\n",
    "* Weight/Filter/Kernel : 세부적으로 들어갈 경우에는 의미 차이가 있지만, 거의 유사한 의미이다.\n",
    "                         Convolution Kernel을 바꿔가면서 특징을 더 잘 보여줄 수 있는 Kernel을 찾아낸다.\n",
    "                         (Convolution 내부에서 Weight를 학습시킨다!)"
   ]
  },
  {
   "cell_type": "markdown",
   "metadata": {},
   "source": [
    " $ y = wx + b $ 라는 식에서 $ x $가 input, $ y $가 output이라고 했을 때 $ W $는 Weight, $ b $는 Bias가 된다."
   ]
  },
  {
   "cell_type": "markdown",
   "metadata": {},
   "source": [
    "* Pooling Layer : 앞에서 뽑아낸 Feature들을 압축시켜서 줄여준다.\n",
    "                  ex. 32 * 32 의 이미지를 16 * 16의 이미지로 압축\n",
    "                  Convolution Layer가 특징을 뽑아내는 Layer였다면 Pooling Layer은 그 특징을 압축하는 레이어라고 보면 된다.\n",
    "* Activation Function : 뽑아낸 특징을 바탕으로 불필요한 요소는 제거해주고 필요한 요소만 보낸다.\n",
    "* Softmax : 여러가지의 결과가 도출되었을 떄 다양한 값들을 합이 1인 확률 형태로 만들어준다."
   ]
  },
  {
   "cell_type": "markdown",
   "metadata": {},
   "source": [
    "## 딥러닝 용어(2)"
   ]
  },
  {
   "cell_type": "markdown",
   "metadata": {},
   "source": [
    "* Cost / Loss / Loss Function : 딥러닝 모델이 예측하는 정답이 실제 정답과 비교하였을 때 얼마나 틀렸는지를 나타내는 수치\n",
    "* Optimization : Loss Function에서 Loss/Cost를 줄일 수 있도록 최적화 하는 과정.\n",
    "* Learning Rate : Hyperparameter. 컴퓨터가 직접 조절할 수 없는 수치 가운데 하나로 사람이 직접 설정해줘야 한다. Learning Rate가 너무 낮으면 극솟값에 같힐 우려도 있고 학습의 속도도 느리다. Learning Rate가 너무 높으면 최솟값을 확인하지 모사고 그냥 지나칠 우려가 있다.\n",
    "* Batch Sixe : 각 모델에 데이터를 넣어줄 때, 데이터를 한꺼번에 넣으면 처리가 곤란 할 수도 있기 때문에 데이터를 나누어 모델에 집어넣는 크기\n",
    "* Epoch : 데이터를 여러 번 반복하여 모델을 학습시키는 횟수.\n",
    "* Train / Validation / Test : 모델을 학습시키기 위해 사용하는 Train Set, 모델의 성능을 평가하기 위해서 사용하는 Test Set.(Test Set의 데이터가 Train Set에 속해있으면 올바른 모델 평가가 힘들어진다.)\n",
    "* Label / Ground Truth : Supervised Model의 경우 기존 데이터들을 설명할 수 있는 Label들이 존재해야 모델이 데이터를 올바르게 판단하여 사용자가 원하는 결과를 도출해낼 수 있다."
   ]
  },
  {
   "cell_type": "markdown",
   "metadata": {},
   "source": [
    "## CNN의 모델구조"
   ]
  },
  {
   "cell_type": "markdown",
   "metadata": {},
   "source": [
    "* Feature Extraction / Classification : Feature Extraction 부분에서는 데이터(주로 이미지)의 특징을 추출해낸다. 뽑아낸 특징을 바탕으로하여 Classification 부분을 통해 해당 데이터가 어디에 속하는지를 결정하게 된다.\n",
    "* Convolution Layer을 통해서 이미지의 특징을 잡아내게 된다. (Filter을 만들어 내어 Feature Map 작성)\n",
    "* Pooling Layer을 통해서 이전에 얻어진 이미지의 특징 가운데 그 값이 높은값을 추출하여 더 작은 단위의 압축된 Feature Map을 작성한다.(Max Pooling 기법)\n",
    "* Activation Function (ReLU)는 앞에 뽑아낸 특징들 가운데에서 불필요한 요소들을 제거해준다.\n",
    "* 이러한 일련의 과정을 거치고 (+ 반복실행) Fully Connected된 모델을 통해 계산하여 데이터에 대해 정답을 예측하게 된다.(Weight와 Bias조정)\n",
    "* LeNet, AlexNet, VGG16, ResNet, DenseNet과 같은 형태의 CNN이 존재한다.(위와 같은 요소들을 어떻게 쌓아놨는지가 관건)\n",
    "* CNN은 구조적으로는 복잡하지만 Layer 자체의 특성이 어렵지는 않다! (어떻게 쌓는지가 더 중요하다)"
   ]
  }
 ],
 "metadata": {
  "kernelspec": {
   "display_name": "Python 3",
   "language": "python",
   "name": "python3"
  },
  "language_info": {
   "codemirror_mode": {
    "name": "ipython",
    "version": 3
   },
   "file_extension": ".py",
   "mimetype": "text/x-python",
   "name": "python",
   "nbconvert_exporter": "python",
   "pygments_lexer": "ipython3",
   "version": "3.7.6"
  }
 },
 "nbformat": 4,
 "nbformat_minor": 4
}
